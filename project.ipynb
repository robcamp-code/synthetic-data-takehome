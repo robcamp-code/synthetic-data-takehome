{
 "cells": [
  {
   "cell_type": "code",
   "execution_count": 1,
   "metadata": {},
   "outputs": [],
   "source": [
    "from hashlib import sha256\n",
    "from datetime import datetime, timedelta\n",
    "import random\n",
    "import pandas as pd\n",
    "import pydbgen\n",
    "from pydbgen import pydbgen\n",
    "from random_address import real_random_address\n",
    "from cryptography.fernet import Fernet"
   ]
  },
  {
   "cell_type": "code",
   "execution_count": 2,
   "metadata": {},
   "outputs": [],
   "source": [
    "addr = real_random_address()"
   ]
  },
  {
   "cell_type": "code",
   "execution_count": 3,
   "metadata": {},
   "outputs": [
    {
     "data": {
      "text/plain": [
       "{'address1': '161 Creek Road',\n",
       " 'address2': '',\n",
       " 'city': 'Middlebury',\n",
       " 'state': 'VT',\n",
       " 'postalCode': '05753',\n",
       " 'coordinates': {'lat': 44.0025571, 'lng': -73.16035579999999}}"
      ]
     },
     "execution_count": 3,
     "metadata": {},
     "output_type": "execute_result"
    }
   ],
   "source": [
    "addr"
   ]
  },
  {
   "cell_type": "code",
   "execution_count": 4,
   "metadata": {},
   "outputs": [
    {
     "data": {
      "text/plain": [
       "[66, 44, 19, 12, 26, 81, 49, 64, 43, 30]"
      ]
     },
     "execution_count": 4,
     "metadata": {},
     "output_type": "execute_result"
    }
   ],
   "source": [
    "random.sample(range(100), 10)"
   ]
  },
  {
   "cell_type": "markdown",
   "metadata": {},
   "source": [
    "Encryption\n",
    "● Hashing\n",
    "● Masking\n",
    "● De Identification\n",
    "● Anonymization\n",
    "● PseudoAnonymization"
   ]
  },
  {
   "cell_type": "code",
   "execution_count": 5,
   "metadata": {},
   "outputs": [],
   "source": [
    "def tokenize(data: str) -> str:\n",
    "    \"\"\" \n",
    "    This removes the data from an organization’s internal systems entirely and exchanges it for a randomly generated nonsensitive placeholder.\n",
    "    The primary differences and benefits of using tokenization vs. encryption is that tokenized data cannot be returned to its original form.\n",
    "    \"\"\"\n",
    "    pass"
   ]
  },
  {
   "cell_type": "code",
   "execution_count": 6,
   "metadata": {},
   "outputs": [],
   "source": [
    "KEY = Fernet.generate_key()\n",
    "cipher_suite = Fernet(KEY)"
   ]
  },
  {
   "cell_type": "code",
   "execution_count": 7,
   "metadata": {},
   "outputs": [
    {
     "data": {
      "text/plain": [
       "<cryptography.fernet.Fernet at 0x124944740>"
      ]
     },
     "execution_count": 7,
     "metadata": {},
     "output_type": "execute_result"
    }
   ],
   "source": [
    "cipher_suite"
   ]
  },
  {
   "cell_type": "code",
   "execution_count": 8,
   "metadata": {},
   "outputs": [
    {
     "name": "stdout",
     "output_type": "stream",
     "text": [
      "gAAAAABmlsXYKHnjR8l9HmXS2nXjowHrzeMt3NPk9oTeBDy6dk2crSErWM1VYxuK4XkUEX8ALMPVOmx6p26ynr4qRojp16Fl1g== b'data'\n"
     ]
    }
   ],
   "source": [
    "def encrypt(data: str) -> str:\n",
    "    ssn_bytes = data.encode('utf-8')\n",
    "    encrypted_ssn = cipher_suite.encrypt(ssn_bytes)\n",
    "    return encrypted_ssn.decode('utf-8')\n",
    "\n",
    "encrypted = encrypt(\"data\")\n",
    "decrypted = cipher_suite.decrypt(encrypted)\n",
    "print(encrypted, decrypted)"
   ]
  },
  {
   "cell_type": "code",
   "execution_count": 9,
   "metadata": {},
   "outputs": [
    {
     "data": {
      "text/plain": [
       "'1b981233042d15d7cd1ea00a84bb5df3bc7a4f53a3498829d8cc41364b0cf6af'"
      ]
     },
     "execution_count": 9,
     "metadata": {},
     "output_type": "execute_result"
    }
   ],
   "source": [
    "def hash(data: str) -> str:\n",
    "    sha256_hash = sha256()\n",
    "    sha256_hash.update(data.encode('utf-8'))\n",
    "    hashed_string = sha256_hash.hexdigest()\n",
    "    return hashed_string\n",
    "\n",
    "hash(\"09/29/1998\")"
   ]
  },
  {
   "cell_type": "code",
   "execution_count": 10,
   "metadata": {},
   "outputs": [
    {
     "data": {
      "text/plain": [
       "'84313ef39b0a979f0608491608870b3f2065f447d73e4373ba75ae2330aa82b5@gmail.com'"
      ]
     },
     "execution_count": 10,
     "metadata": {},
     "output_type": "execute_result"
    }
   ],
   "source": [
    "def mask_email(data: str) -> str:\n",
    "    \"\"\" replace the data with random codes \"\"\"\n",
    "    email_domain = data.split('@')\n",
    "    email_domain[0] = hash(email_domain[0]) #TODO: use encryption instead\n",
    "    anonymized_email = \"@\".join(email_domain)\n",
    "    return anonymized_email\n",
    "\n",
    "mask_email(\"rob@gmail.com\")"
   ]
  },
  {
   "cell_type": "code",
   "execution_count": 11,
   "metadata": {},
   "outputs": [
    {
     "data": {
      "text/plain": [
       "'00000'"
      ]
     },
     "execution_count": 11,
     "metadata": {},
     "output_type": "execute_result"
    }
   ],
   "source": [
    "'0' * 5"
   ]
  },
  {
   "cell_type": "code",
   "execution_count": 75,
   "metadata": {},
   "outputs": [],
   "source": [
    "def anonymize_id(student_id: int) -> str:\n",
    "    \"\"\" anonymize the data generate string n in a similar format \"\"\"\n",
    "    n_digits = len(str(student_id))\n",
    "    low_bound = int('1' + '0' * (n_digits - 1))\n",
    "    upper_bound = int('9' * n_digits)\n",
    "    new_id = random.randint(low_bound, upper_bound)\n",
    "    \n",
    "    return new_id"
   ]
  },
  {
   "cell_type": "code",
   "execution_count": 30,
   "metadata": {},
   "outputs": [],
   "source": [
    "def pseudo_anonymize_address(address: str) -> str:\n",
    "    \"\"\" \n",
    "    ADDRESS:\n",
    "    pseudo_anonymization, the data is still considered (PII); however, it is \n",
    "    accomplished by substituting PII values like name, ID number, or date of birth\n",
    "    with a random code. Pseudo anonymization is reversable where data masking is not \n",
    "      \n",
    "    But there are numerous other methods of pseudonymization, including the use of: \n",
    "    - Cryptographic hash techniques, that arbitrarily input strings to fixed \n",
    "    length outputs and then apply them directly to the identifier  \n",
    "    - Random number generators, that create a random number and then assign it to an identifier\n",
    "    - Message authentication codes, which are keyed-hash functions that require a secret key to generate the \n",
    "    pseudonym for each data field \n",
    "    - Monotonic counters, that substitute an identifier with a unique, non-repeating value\n",
    "    - Encryption, that safeguards identifiers as long as the encryption key remains uncompromised  \n",
    "    \"\"\"\n",
    "    return encrypt(address)"
   ]
  },
  {
   "cell_type": "code",
   "execution_count": 31,
   "metadata": {},
   "outputs": [],
   "source": [
    "def de_identify(data: str) -> str:\n",
    "    \"\"\" \n",
    "    EX: \n",
    "    replace Robert Campbell with Robert C. \n",
    "    replace 3.2 with a range 3.0 - 3.5\n",
    "    No individual can be individually identified based on their record\n",
    "    \"\"\"\n",
    "    pass"
   ]
  },
  {
   "cell_type": "code",
   "execution_count": 32,
   "metadata": {},
   "outputs": [],
   "source": [
    "def replace_last_name_with_initial(last_name: str) -> str:\n",
    "    \"\"\" replace last name with only the first letter \"\"\"\n",
    "    return last_name[0]"
   ]
  },
  {
   "cell_type": "code",
   "execution_count": 33,
   "metadata": {},
   "outputs": [],
   "source": [
    "def tokenize_ssn(ssn):\n",
    "    ssn_int = random.randint(100000000, 999999999)\n",
    "    ssn_str = str(ssn_int)\n",
    "\n",
    "    tokenized_ssn = ssn_str[:3] + '-' + ssn_str[3:5] + '-' + ssn_str[5:]\n",
    "    return tokenized_ssn\n",
    "\n",
    "\n",
    "def encrypt_tokenize(ssn):\n",
    "    \"\"\" \n",
    "    first tokenize the data by replacing ssn with random integers in the correct format\n",
    "    then encrypt the tokenized SSN\n",
    "    \"\"\"\n",
    "    tokenized = tokenize_ssn(ssn)\n",
    "    encrypted = encrypt(tokenized)\n",
    "    return encrypted\n"
   ]
  },
  {
   "cell_type": "code",
   "execution_count": 34,
   "metadata": {},
   "outputs": [],
   "source": [
    "def return_same(x):\n",
    "    return x"
   ]
  },
  {
   "cell_type": "code",
   "execution_count": 78,
   "metadata": {},
   "outputs": [],
   "source": [
    "col_names = [\"first_name\", \"last_name\", \"name\", \"dob\", \"age\", \"email\", \"ssn\", \"medical_record_number\", \"student_id\"]\n",
    "agg_map = {\n",
    "    \"name\": return_same,\n",
    "    \"first_name\": return_same, \n",
    "    \"last_name\": replace_last_name_with_initial, \n",
    "    \"dob\": hash, \n",
    "    \"age\": return_same, \n",
    "    \"email\": mask_email,\n",
    "    \"address\": pseudo_anonymize_address,\n",
    "    \"ssn\": encrypt_tokenize,\n",
    "    \"medical_record_number\": encrypt,\n",
    "    \"student_id\": anonymize_id,\n",
    "    \"city\": return_same,\n",
    "    \"state\": return_same,\n",
    "    \"zip\": return_same\n",
    "\n",
    "}"
   ]
  },
  {
   "cell_type": "code",
   "execution_count": 63,
   "metadata": {},
   "outputs": [],
   "source": [
    "possible_ids = range(1_000_000, 9_999_999)\n",
    "\n",
    "def generate_medical_number(x):\n",
    "    n_digits = 7\n",
    "    low_bound = int('1' + '0' * (n_digits - 1))\n",
    "    upper_bound = int('9' * n_digits)\n",
    "    return str(random.randint(low_bound, upper_bound))\n",
    "\n",
    "\n",
    "def generate_student_id(x) -> int:\n",
    "    sample = random.sample(possible_ids, 1)\n",
    "    return sample[0]\n",
    "\n",
    "\n",
    "def generate_age(x) -> int:\n",
    "    return random.randint(18, 70)\n",
    "\n",
    "\n",
    "def get_location(row):\n",
    "    addr = real_random_address()\n",
    "    state = addr[\"state\"]\n",
    "    address = addr['address1']\n",
    "    city, zip = None, None\n",
    "\n",
    "    try: city = addr[\"city\"] \n",
    "    except Exception as e: print(e)\n",
    "    \n",
    "    try: zip = addr[\"postalCode\"] \n",
    "    except Exception as e: print(e)\n",
    "    \n",
    "    return pd.Series([address, city, state, zip], index=[\"address\", \"city\", \"state\", \"zip\"])"
   ]
  },
  {
   "cell_type": "code",
   "execution_count": 64,
   "metadata": {},
   "outputs": [
    {
     "data": {
      "text/html": [
       "<div>\n",
       "<style scoped>\n",
       "    .dataframe tbody tr th:only-of-type {\n",
       "        vertical-align: middle;\n",
       "    }\n",
       "\n",
       "    .dataframe tbody tr th {\n",
       "        vertical-align: top;\n",
       "    }\n",
       "\n",
       "    .dataframe thead th {\n",
       "        text-align: right;\n",
       "    }\n",
       "</style>\n",
       "<table border=\"1\" class=\"dataframe\">\n",
       "  <thead>\n",
       "    <tr style=\"text-align: right;\">\n",
       "      <th></th>\n",
       "      <th>first_name</th>\n",
       "      <th>last_name</th>\n",
       "      <th>name</th>\n",
       "      <th>dob</th>\n",
       "      <th>age</th>\n",
       "      <th>email</th>\n",
       "      <th>ssn</th>\n",
       "      <th>medical_record_number</th>\n",
       "      <th>student_id</th>\n",
       "    </tr>\n",
       "  </thead>\n",
       "  <tbody>\n",
       "    <tr>\n",
       "      <th>0</th>\n",
       "      <td>NaN</td>\n",
       "      <td>NaN</td>\n",
       "      <td>Debbie Ryan</td>\n",
       "      <td>None</td>\n",
       "      <td>None</td>\n",
       "      <td>Ryan_Debbie82@hotmail.com</td>\n",
       "      <td>664-10-9052</td>\n",
       "      <td>None</td>\n",
       "      <td>None</td>\n",
       "    </tr>\n",
       "    <tr>\n",
       "      <th>1</th>\n",
       "      <td>NaN</td>\n",
       "      <td>NaN</td>\n",
       "      <td>Jodi Dawson</td>\n",
       "      <td>None</td>\n",
       "      <td>None</td>\n",
       "      <td>Jodi.Dawson@gmail.com</td>\n",
       "      <td>350-07-9643</td>\n",
       "      <td>None</td>\n",
       "      <td>None</td>\n",
       "    </tr>\n",
       "    <tr>\n",
       "      <th>2</th>\n",
       "      <td>NaN</td>\n",
       "      <td>NaN</td>\n",
       "      <td>Jessica Smith</td>\n",
       "      <td>None</td>\n",
       "      <td>None</td>\n",
       "      <td>JSmith@hotmail.com</td>\n",
       "      <td>047-10-6611</td>\n",
       "      <td>None</td>\n",
       "      <td>None</td>\n",
       "    </tr>\n",
       "    <tr>\n",
       "      <th>3</th>\n",
       "      <td>NaN</td>\n",
       "      <td>NaN</td>\n",
       "      <td>Keith Stewart</td>\n",
       "      <td>None</td>\n",
       "      <td>None</td>\n",
       "      <td>Keith.S70@yahoo.com</td>\n",
       "      <td>565-04-1872</td>\n",
       "      <td>None</td>\n",
       "      <td>None</td>\n",
       "    </tr>\n",
       "    <tr>\n",
       "      <th>4</th>\n",
       "      <td>NaN</td>\n",
       "      <td>NaN</td>\n",
       "      <td>Richard Wells</td>\n",
       "      <td>None</td>\n",
       "      <td>None</td>\n",
       "      <td>Richard_Wells76@hotmail.com</td>\n",
       "      <td>450-49-1096</td>\n",
       "      <td>None</td>\n",
       "      <td>None</td>\n",
       "    </tr>\n",
       "  </tbody>\n",
       "</table>\n",
       "</div>"
      ],
      "text/plain": [
       "  first_name last_name           name   dob   age  \\\n",
       "0        NaN       NaN    Debbie Ryan  None  None   \n",
       "1        NaN       NaN    Jodi Dawson  None  None   \n",
       "2        NaN       NaN  Jessica Smith  None  None   \n",
       "3        NaN       NaN  Keith Stewart  None  None   \n",
       "4        NaN       NaN  Richard Wells  None  None   \n",
       "\n",
       "                         email          ssn medical_record_number student_id  \n",
       "0    Ryan_Debbie82@hotmail.com  664-10-9052                  None       None  \n",
       "1        Jodi.Dawson@gmail.com  350-07-9643                  None       None  \n",
       "2           JSmith@hotmail.com  047-10-6611                  None       None  \n",
       "3          Keith.S70@yahoo.com  565-04-1872                  None       None  \n",
       "4  Richard_Wells76@hotmail.com  450-49-1096                  None       None  "
      ]
     },
     "execution_count": 64,
     "metadata": {},
     "output_type": "execute_result"
    }
   ],
   "source": [
    "# create synthetic dataset\n",
    "src_db = pydbgen.pydb()\n",
    "pydb_df = src_db.gen_dataframe(1000, fields=col_names, phone_simple=True)\n",
    "pydb_df.head()"
   ]
  },
  {
   "cell_type": "code",
   "execution_count": null,
   "metadata": {},
   "outputs": [],
   "source": []
  },
  {
   "cell_type": "code",
   "execution_count": 65,
   "metadata": {},
   "outputs": [
    {
     "name": "stdout",
     "output_type": "stream",
     "text": [
      "'city'\n",
      "'city'\n",
      "'city'\n",
      "'city'\n"
     ]
    }
   ],
   "source": [
    "pydb_df[\"student_id\"] = pydb_df[\"student_id\"].apply(generate_student_id)\n",
    "# pydb_df[\"age\"] = pydb_df[\"age\"].apply(generate_age) TODO: get age by dob\n",
    "loc_info = pydb_df.apply(get_location, result_type='expand', axis=1)\n",
    "pydb_df = pd.concat([pydb_df, loc_info], axis=1)"
   ]
  },
  {
   "cell_type": "code",
   "execution_count": 66,
   "metadata": {},
   "outputs": [],
   "source": [
    "def generate_dob(start_year=1950, end_year=2000):\n",
    "    \"\"\"\n",
    "    Generates a random date between January 1, 1950, and December 31, 2000.\n",
    "    :param start_year: The start year for the date range (inclusive)\n",
    "    :param end_year: The end year for the date range (inclusive)\n",
    "    :return: A random date as a string in the format YYYY-MM-DD\n",
    "    \"\"\"\n",
    "    start_date = datetime(start_year, 1, 1)\n",
    "    end_date = datetime(end_year, 12, 31)\n",
    "    \n",
    "    delta = end_date - start_date\n",
    "    random_days = random.randint(0, delta.days)\n",
    "    \n",
    "    random_date = start_date + timedelta(days=random_days)\n",
    "    \n",
    "    return random_date.strftime('%Y-%m-%dT%H:%M:%S.%fZ')"
   ]
  },
  {
   "cell_type": "code",
   "execution_count": 67,
   "metadata": {},
   "outputs": [],
   "source": [
    "pydb_df[\"dob\"] = pydb_df[\"dob\"].apply(lambda x: generate_dob())"
   ]
  },
  {
   "cell_type": "code",
   "execution_count": 68,
   "metadata": {},
   "outputs": [],
   "source": [
    "def get_first_name(name: str) -> str:\n",
    "    names = name.split(\" \")\n",
    "    names.pop(-1)\n",
    "    return \" \".join(names)\n",
    "\n",
    "def get_last_name(name: str) -> str:\n",
    "    names = name.split(\" \")\n",
    "    return names.pop(-1)"
   ]
  },
  {
   "cell_type": "code",
   "execution_count": 69,
   "metadata": {},
   "outputs": [],
   "source": [
    "pydb_df[\"first_name\"] = pydb_df[\"name\"].apply(get_first_name)\n",
    "pydb_df[\"last_name\"] = pydb_df[\"name\"].apply(get_last_name)\n",
    "pydb_df[\"medical_record_number\"] = pydb_df[\"medical_record_number\"].apply(generate_medical_number)"
   ]
  },
  {
   "cell_type": "code",
   "execution_count": 57,
   "metadata": {},
   "outputs": [
    {
     "name": "stderr",
     "output_type": "stream",
     "text": [
      "/var/folders/nx/l7sd1gss2ksd87brx4b4blxh0000gn/T/ipykernel_27806/733385596.py:1: FutureWarning: using <function return_same at 0x144583e20> in Series.agg cannot aggregate and has been deprecated. Use Series.transform to keep behavior unchanged.\n",
      "  pydb_df.agg(agg_map)\n",
      "/var/folders/nx/l7sd1gss2ksd87brx4b4blxh0000gn/T/ipykernel_27806/733385596.py:1: FutureWarning: using <function replace_last_name_with_initial at 0x144583600> in Series.agg cannot aggregate and has been deprecated. Use Series.transform to keep behavior unchanged.\n",
      "  pydb_df.agg(agg_map)\n",
      "/var/folders/nx/l7sd1gss2ksd87brx4b4blxh0000gn/T/ipykernel_27806/733385596.py:1: FutureWarning: using <function hash at 0x1249f4040> in Series.agg cannot aggregate and has been deprecated. Use Series.transform to keep behavior unchanged.\n",
      "  pydb_df.agg(agg_map)\n",
      "/var/folders/nx/l7sd1gss2ksd87brx4b4blxh0000gn/T/ipykernel_27806/733385596.py:1: FutureWarning: using <function mask_email at 0x1249f4400> in Series.agg cannot aggregate and has been deprecated. Use Series.transform to keep behavior unchanged.\n",
      "  pydb_df.agg(agg_map)\n",
      "/var/folders/nx/l7sd1gss2ksd87brx4b4blxh0000gn/T/ipykernel_27806/733385596.py:1: FutureWarning: using <function pseudo_anonymize_address at 0x144582fc0> in Series.agg cannot aggregate and has been deprecated. Use Series.transform to keep behavior unchanged.\n",
      "  pydb_df.agg(agg_map)\n",
      "/var/folders/nx/l7sd1gss2ksd87brx4b4blxh0000gn/T/ipykernel_27806/733385596.py:1: FutureWarning: using <function encrypt_tokenize at 0x144581c60> in Series.agg cannot aggregate and has been deprecated. Use Series.transform to keep behavior unchanged.\n",
      "  pydb_df.agg(agg_map)\n"
     ]
    },
    {
     "ename": "AttributeError",
     "evalue": "'Series' object has no attribute 'encode'",
     "output_type": "error",
     "traceback": [
      "\u001b[0;31m---------------------------------------------------------------------------\u001b[0m",
      "\u001b[0;31mAttributeError\u001b[0m                            Traceback (most recent call last)",
      "File \u001b[0;32m~/synthetic-data-takehome/venv/lib/python3.12/site-packages/pandas/core/apply.py:1441\u001b[0m, in \u001b[0;36mSeriesApply.agg\u001b[0;34m(self)\u001b[0m\n\u001b[1;32m   1440\u001b[0m \u001b[38;5;28;01mtry\u001b[39;00m:\n\u001b[0;32m-> 1441\u001b[0m     result \u001b[38;5;241m=\u001b[39m \u001b[43mobj\u001b[49m\u001b[38;5;241;43m.\u001b[39;49m\u001b[43mapply\u001b[49m\u001b[43m(\u001b[49m\u001b[43mfunc\u001b[49m\u001b[43m,\u001b[49m\u001b[43m \u001b[49m\u001b[43margs\u001b[49m\u001b[38;5;241;43m=\u001b[39;49m\u001b[38;5;28;43mself\u001b[39;49m\u001b[38;5;241;43m.\u001b[39;49m\u001b[43margs\u001b[49m\u001b[43m,\u001b[49m\u001b[43m \u001b[49m\u001b[38;5;241;43m*\u001b[39;49m\u001b[38;5;241;43m*\u001b[39;49m\u001b[38;5;28;43mself\u001b[39;49m\u001b[38;5;241;43m.\u001b[39;49m\u001b[43mkwargs\u001b[49m\u001b[43m)\u001b[49m\n\u001b[1;32m   1442\u001b[0m \u001b[38;5;28;01mexcept\u001b[39;00m (\u001b[38;5;167;01mValueError\u001b[39;00m, \u001b[38;5;167;01mAttributeError\u001b[39;00m, \u001b[38;5;167;01mTypeError\u001b[39;00m):\n",
      "File \u001b[0;32m~/synthetic-data-takehome/venv/lib/python3.12/site-packages/pandas/core/series.py:4924\u001b[0m, in \u001b[0;36mSeries.apply\u001b[0;34m(self, func, convert_dtype, args, by_row, **kwargs)\u001b[0m\n\u001b[1;32m   4798\u001b[0m \u001b[38;5;250m\u001b[39m\u001b[38;5;124;03m\"\"\"\u001b[39;00m\n\u001b[1;32m   4799\u001b[0m \u001b[38;5;124;03mInvoke function on values of Series.\u001b[39;00m\n\u001b[1;32m   4800\u001b[0m \n\u001b[0;32m   (...)\u001b[0m\n\u001b[1;32m   4915\u001b[0m \u001b[38;5;124;03mdtype: float64\u001b[39;00m\n\u001b[1;32m   4916\u001b[0m \u001b[38;5;124;03m\"\"\"\u001b[39;00m\n\u001b[1;32m   4917\u001b[0m \u001b[38;5;28;01mreturn\u001b[39;00m \u001b[43mSeriesApply\u001b[49m\u001b[43m(\u001b[49m\n\u001b[1;32m   4918\u001b[0m \u001b[43m    \u001b[49m\u001b[38;5;28;43mself\u001b[39;49m\u001b[43m,\u001b[49m\n\u001b[1;32m   4919\u001b[0m \u001b[43m    \u001b[49m\u001b[43mfunc\u001b[49m\u001b[43m,\u001b[49m\n\u001b[1;32m   4920\u001b[0m \u001b[43m    \u001b[49m\u001b[43mconvert_dtype\u001b[49m\u001b[38;5;241;43m=\u001b[39;49m\u001b[43mconvert_dtype\u001b[49m\u001b[43m,\u001b[49m\n\u001b[1;32m   4921\u001b[0m \u001b[43m    \u001b[49m\u001b[43mby_row\u001b[49m\u001b[38;5;241;43m=\u001b[39;49m\u001b[43mby_row\u001b[49m\u001b[43m,\u001b[49m\n\u001b[1;32m   4922\u001b[0m \u001b[43m    \u001b[49m\u001b[43margs\u001b[49m\u001b[38;5;241;43m=\u001b[39;49m\u001b[43margs\u001b[49m\u001b[43m,\u001b[49m\n\u001b[1;32m   4923\u001b[0m \u001b[43m    \u001b[49m\u001b[43mkwargs\u001b[49m\u001b[38;5;241;43m=\u001b[39;49m\u001b[43mkwargs\u001b[49m\u001b[43m,\u001b[49m\n\u001b[0;32m-> 4924\u001b[0m \u001b[43m\u001b[49m\u001b[43m)\u001b[49m\u001b[38;5;241;43m.\u001b[39;49m\u001b[43mapply\u001b[49m\u001b[43m(\u001b[49m\u001b[43m)\u001b[49m\n",
      "File \u001b[0;32m~/synthetic-data-takehome/venv/lib/python3.12/site-packages/pandas/core/apply.py:1427\u001b[0m, in \u001b[0;36mSeriesApply.apply\u001b[0;34m(self)\u001b[0m\n\u001b[1;32m   1426\u001b[0m \u001b[38;5;66;03m# self.func is Callable\u001b[39;00m\n\u001b[0;32m-> 1427\u001b[0m \u001b[38;5;28;01mreturn\u001b[39;00m \u001b[38;5;28;43mself\u001b[39;49m\u001b[38;5;241;43m.\u001b[39;49m\u001b[43mapply_standard\u001b[49m\u001b[43m(\u001b[49m\u001b[43m)\u001b[49m\n",
      "File \u001b[0;32m~/synthetic-data-takehome/venv/lib/python3.12/site-packages/pandas/core/apply.py:1507\u001b[0m, in \u001b[0;36mSeriesApply.apply_standard\u001b[0;34m(self)\u001b[0m\n\u001b[1;32m   1506\u001b[0m action \u001b[38;5;241m=\u001b[39m \u001b[38;5;124m\"\u001b[39m\u001b[38;5;124mignore\u001b[39m\u001b[38;5;124m\"\u001b[39m \u001b[38;5;28;01mif\u001b[39;00m \u001b[38;5;28misinstance\u001b[39m(obj\u001b[38;5;241m.\u001b[39mdtype, CategoricalDtype) \u001b[38;5;28;01melse\u001b[39;00m \u001b[38;5;28;01mNone\u001b[39;00m\n\u001b[0;32m-> 1507\u001b[0m mapped \u001b[38;5;241m=\u001b[39m \u001b[43mobj\u001b[49m\u001b[38;5;241;43m.\u001b[39;49m\u001b[43m_map_values\u001b[49m\u001b[43m(\u001b[49m\n\u001b[1;32m   1508\u001b[0m \u001b[43m    \u001b[49m\u001b[43mmapper\u001b[49m\u001b[38;5;241;43m=\u001b[39;49m\u001b[43mcurried\u001b[49m\u001b[43m,\u001b[49m\u001b[43m \u001b[49m\u001b[43mna_action\u001b[49m\u001b[38;5;241;43m=\u001b[39;49m\u001b[43maction\u001b[49m\u001b[43m,\u001b[49m\u001b[43m \u001b[49m\u001b[43mconvert\u001b[49m\u001b[38;5;241;43m=\u001b[39;49m\u001b[38;5;28;43mself\u001b[39;49m\u001b[38;5;241;43m.\u001b[39;49m\u001b[43mconvert_dtype\u001b[49m\n\u001b[1;32m   1509\u001b[0m \u001b[43m\u001b[49m\u001b[43m)\u001b[49m\n\u001b[1;32m   1511\u001b[0m \u001b[38;5;28;01mif\u001b[39;00m \u001b[38;5;28mlen\u001b[39m(mapped) \u001b[38;5;129;01mand\u001b[39;00m \u001b[38;5;28misinstance\u001b[39m(mapped[\u001b[38;5;241m0\u001b[39m], ABCSeries):\n\u001b[1;32m   1512\u001b[0m     \u001b[38;5;66;03m# GH#43986 Need to do list(mapped) in order to get treated as nested\u001b[39;00m\n\u001b[1;32m   1513\u001b[0m     \u001b[38;5;66;03m#  See also GH#25959 regarding EA support\u001b[39;00m\n",
      "File \u001b[0;32m~/synthetic-data-takehome/venv/lib/python3.12/site-packages/pandas/core/base.py:921\u001b[0m, in \u001b[0;36mIndexOpsMixin._map_values\u001b[0;34m(self, mapper, na_action, convert)\u001b[0m\n\u001b[1;32m    919\u001b[0m     \u001b[38;5;28;01mreturn\u001b[39;00m arr\u001b[38;5;241m.\u001b[39mmap(mapper, na_action\u001b[38;5;241m=\u001b[39mna_action)\n\u001b[0;32m--> 921\u001b[0m \u001b[38;5;28;01mreturn\u001b[39;00m \u001b[43malgorithms\u001b[49m\u001b[38;5;241;43m.\u001b[39;49m\u001b[43mmap_array\u001b[49m\u001b[43m(\u001b[49m\u001b[43marr\u001b[49m\u001b[43m,\u001b[49m\u001b[43m \u001b[49m\u001b[43mmapper\u001b[49m\u001b[43m,\u001b[49m\u001b[43m \u001b[49m\u001b[43mna_action\u001b[49m\u001b[38;5;241;43m=\u001b[39;49m\u001b[43mna_action\u001b[49m\u001b[43m,\u001b[49m\u001b[43m \u001b[49m\u001b[43mconvert\u001b[49m\u001b[38;5;241;43m=\u001b[39;49m\u001b[43mconvert\u001b[49m\u001b[43m)\u001b[49m\n",
      "File \u001b[0;32m~/synthetic-data-takehome/venv/lib/python3.12/site-packages/pandas/core/algorithms.py:1743\u001b[0m, in \u001b[0;36mmap_array\u001b[0;34m(arr, mapper, na_action, convert)\u001b[0m\n\u001b[1;32m   1742\u001b[0m \u001b[38;5;28;01mif\u001b[39;00m na_action \u001b[38;5;129;01mis\u001b[39;00m \u001b[38;5;28;01mNone\u001b[39;00m:\n\u001b[0;32m-> 1743\u001b[0m     \u001b[38;5;28;01mreturn\u001b[39;00m \u001b[43mlib\u001b[49m\u001b[38;5;241;43m.\u001b[39;49m\u001b[43mmap_infer\u001b[49m\u001b[43m(\u001b[49m\u001b[43mvalues\u001b[49m\u001b[43m,\u001b[49m\u001b[43m \u001b[49m\u001b[43mmapper\u001b[49m\u001b[43m,\u001b[49m\u001b[43m \u001b[49m\u001b[43mconvert\u001b[49m\u001b[38;5;241;43m=\u001b[39;49m\u001b[43mconvert\u001b[49m\u001b[43m)\u001b[49m\n\u001b[1;32m   1744\u001b[0m \u001b[38;5;28;01melse\u001b[39;00m:\n",
      "File \u001b[0;32mlib.pyx:2972\u001b[0m, in \u001b[0;36mpandas._libs.lib.map_infer\u001b[0;34m()\u001b[0m\n",
      "Cell \u001b[0;32mIn[8], line 2\u001b[0m, in \u001b[0;36mencrypt\u001b[0;34m(data)\u001b[0m\n\u001b[1;32m      1\u001b[0m \u001b[38;5;28;01mdef\u001b[39;00m \u001b[38;5;21mencrypt\u001b[39m(data: \u001b[38;5;28mstr\u001b[39m) \u001b[38;5;241m-\u001b[39m\u001b[38;5;241m>\u001b[39m \u001b[38;5;28mstr\u001b[39m:\n\u001b[0;32m----> 2\u001b[0m     ssn_bytes \u001b[38;5;241m=\u001b[39m \u001b[43mdata\u001b[49m\u001b[38;5;241;43m.\u001b[39;49m\u001b[43mencode\u001b[49m(\u001b[38;5;124m'\u001b[39m\u001b[38;5;124mutf-8\u001b[39m\u001b[38;5;124m'\u001b[39m)\n\u001b[1;32m      3\u001b[0m     encrypted_ssn \u001b[38;5;241m=\u001b[39m cipher_suite\u001b[38;5;241m.\u001b[39mencrypt(ssn_bytes)\n",
      "\u001b[0;31mAttributeError\u001b[0m: 'int' object has no attribute 'encode'",
      "\nDuring handling of the above exception, another exception occurred:\n",
      "\u001b[0;31mAttributeError\u001b[0m                            Traceback (most recent call last)",
      "\u001b[0;32m/var/folders/nx/l7sd1gss2ksd87brx4b4blxh0000gn/T/ipykernel_27806/733385596.py\u001b[0m in \u001b[0;36m?\u001b[0;34m()\u001b[0m\n\u001b[0;32m----> 1\u001b[0;31m \u001b[0mpydb_df\u001b[0m\u001b[0;34m.\u001b[0m\u001b[0magg\u001b[0m\u001b[0;34m(\u001b[0m\u001b[0magg_map\u001b[0m\u001b[0;34m)\u001b[0m\u001b[0;34m\u001b[0m\u001b[0;34m\u001b[0m\u001b[0m\n\u001b[0m",
      "\u001b[0;32m~/synthetic-data-takehome/venv/lib/python3.12/site-packages/pandas/core/frame.py\u001b[0m in \u001b[0;36m?\u001b[0;34m(self, func, axis, *args, **kwargs)\u001b[0m\n\u001b[1;32m  10145\u001b[0m \u001b[0;34m\u001b[0m\u001b[0m\n\u001b[1;32m  10146\u001b[0m         \u001b[0maxis\u001b[0m \u001b[0;34m=\u001b[0m \u001b[0mself\u001b[0m\u001b[0;34m.\u001b[0m\u001b[0m_get_axis_number\u001b[0m\u001b[0;34m(\u001b[0m\u001b[0maxis\u001b[0m\u001b[0;34m)\u001b[0m\u001b[0;34m\u001b[0m\u001b[0;34m\u001b[0m\u001b[0m\n\u001b[1;32m  10147\u001b[0m \u001b[0;34m\u001b[0m\u001b[0m\n\u001b[1;32m  10148\u001b[0m         \u001b[0mop\u001b[0m \u001b[0;34m=\u001b[0m \u001b[0mframe_apply\u001b[0m\u001b[0;34m(\u001b[0m\u001b[0mself\u001b[0m\u001b[0;34m,\u001b[0m \u001b[0mfunc\u001b[0m\u001b[0;34m=\u001b[0m\u001b[0mfunc\u001b[0m\u001b[0;34m,\u001b[0m \u001b[0maxis\u001b[0m\u001b[0;34m=\u001b[0m\u001b[0maxis\u001b[0m\u001b[0;34m,\u001b[0m \u001b[0margs\u001b[0m\u001b[0;34m=\u001b[0m\u001b[0margs\u001b[0m\u001b[0;34m,\u001b[0m \u001b[0mkwargs\u001b[0m\u001b[0;34m=\u001b[0m\u001b[0mkwargs\u001b[0m\u001b[0;34m)\u001b[0m\u001b[0;34m\u001b[0m\u001b[0;34m\u001b[0m\u001b[0m\n\u001b[0;32m> 10149\u001b[0;31m         \u001b[0mresult\u001b[0m \u001b[0;34m=\u001b[0m \u001b[0mop\u001b[0m\u001b[0;34m.\u001b[0m\u001b[0magg\u001b[0m\u001b[0;34m(\u001b[0m\u001b[0;34m)\u001b[0m\u001b[0;34m\u001b[0m\u001b[0;34m\u001b[0m\u001b[0m\n\u001b[0m\u001b[1;32m  10150\u001b[0m         \u001b[0mresult\u001b[0m \u001b[0;34m=\u001b[0m \u001b[0mreconstruct_and_relabel_result\u001b[0m\u001b[0;34m(\u001b[0m\u001b[0mresult\u001b[0m\u001b[0;34m,\u001b[0m \u001b[0mfunc\u001b[0m\u001b[0;34m,\u001b[0m \u001b[0;34m**\u001b[0m\u001b[0mkwargs\u001b[0m\u001b[0;34m)\u001b[0m\u001b[0;34m\u001b[0m\u001b[0;34m\u001b[0m\u001b[0m\n\u001b[1;32m  10151\u001b[0m         \u001b[0;32mreturn\u001b[0m \u001b[0mresult\u001b[0m\u001b[0;34m\u001b[0m\u001b[0;34m\u001b[0m\u001b[0m\n",
      "\u001b[0;32m~/synthetic-data-takehome/venv/lib/python3.12/site-packages/pandas/core/apply.py\u001b[0m in \u001b[0;36m?\u001b[0;34m(self)\u001b[0m\n\u001b[1;32m    927\u001b[0m         \u001b[0;32mtry\u001b[0m\u001b[0;34m:\u001b[0m\u001b[0;34m\u001b[0m\u001b[0;34m\u001b[0m\u001b[0m\n\u001b[1;32m    928\u001b[0m             \u001b[0mresult\u001b[0m \u001b[0;34m=\u001b[0m \u001b[0msuper\u001b[0m\u001b[0;34m(\u001b[0m\u001b[0;34m)\u001b[0m\u001b[0;34m.\u001b[0m\u001b[0magg\u001b[0m\u001b[0;34m(\u001b[0m\u001b[0;34m)\u001b[0m\u001b[0;34m\u001b[0m\u001b[0;34m\u001b[0m\u001b[0m\n\u001b[1;32m    929\u001b[0m         \u001b[0;32mfinally\u001b[0m\u001b[0;34m:\u001b[0m\u001b[0;34m\u001b[0m\u001b[0;34m\u001b[0m\u001b[0m\n\u001b[1;32m    930\u001b[0m             \u001b[0mself\u001b[0m\u001b[0;34m.\u001b[0m\u001b[0mobj\u001b[0m \u001b[0;34m=\u001b[0m \u001b[0mobj\u001b[0m\u001b[0;34m\u001b[0m\u001b[0;34m\u001b[0m\u001b[0m\n\u001b[0;32m--> 931\u001b[0;31m             \u001b[0mself\u001b[0m\u001b[0;34m.\u001b[0m\u001b[0maxis\u001b[0m \u001b[0;34m=\u001b[0m \u001b[0maxis\u001b[0m\u001b[0;34m\u001b[0m\u001b[0;34m\u001b[0m\u001b[0m\n\u001b[0m\u001b[1;32m    932\u001b[0m \u001b[0;34m\u001b[0m\u001b[0m\n\u001b[1;32m    933\u001b[0m         \u001b[0;32mif\u001b[0m \u001b[0maxis\u001b[0m \u001b[0;34m==\u001b[0m \u001b[0;36m1\u001b[0m\u001b[0;34m:\u001b[0m\u001b[0;34m\u001b[0m\u001b[0;34m\u001b[0m\u001b[0m\n\u001b[1;32m    934\u001b[0m             \u001b[0mresult\u001b[0m \u001b[0;34m=\u001b[0m \u001b[0mresult\u001b[0m\u001b[0;34m.\u001b[0m\u001b[0mT\u001b[0m \u001b[0;32mif\u001b[0m \u001b[0mresult\u001b[0m \u001b[0;32mis\u001b[0m \u001b[0;32mnot\u001b[0m \u001b[0;32mNone\u001b[0m \u001b[0;32melse\u001b[0m \u001b[0mresult\u001b[0m\u001b[0;34m\u001b[0m\u001b[0;34m\u001b[0m\u001b[0m\n",
      "\u001b[0;32m~/synthetic-data-takehome/venv/lib/python3.12/site-packages/pandas/core/apply.py\u001b[0m in \u001b[0;36m?\u001b[0;34m(self)\u001b[0m\n\u001b[1;32m    186\u001b[0m         \u001b[0;32mif\u001b[0m \u001b[0misinstance\u001b[0m\u001b[0;34m(\u001b[0m\u001b[0mfunc\u001b[0m\u001b[0;34m,\u001b[0m \u001b[0mstr\u001b[0m\u001b[0;34m)\u001b[0m\u001b[0;34m:\u001b[0m\u001b[0;34m\u001b[0m\u001b[0;34m\u001b[0m\u001b[0m\n\u001b[1;32m    187\u001b[0m             \u001b[0;32mreturn\u001b[0m \u001b[0mself\u001b[0m\u001b[0;34m.\u001b[0m\u001b[0mapply_str\u001b[0m\u001b[0;34m(\u001b[0m\u001b[0;34m)\u001b[0m\u001b[0;34m\u001b[0m\u001b[0;34m\u001b[0m\u001b[0m\n\u001b[1;32m    188\u001b[0m \u001b[0;34m\u001b[0m\u001b[0m\n\u001b[1;32m    189\u001b[0m         \u001b[0;32mif\u001b[0m \u001b[0mis_dict_like\u001b[0m\u001b[0;34m(\u001b[0m\u001b[0mfunc\u001b[0m\u001b[0;34m)\u001b[0m\u001b[0;34m:\u001b[0m\u001b[0;34m\u001b[0m\u001b[0;34m\u001b[0m\u001b[0m\n\u001b[0;32m--> 190\u001b[0;31m             \u001b[0;32mreturn\u001b[0m \u001b[0mself\u001b[0m\u001b[0;34m.\u001b[0m\u001b[0magg_dict_like\u001b[0m\u001b[0;34m(\u001b[0m\u001b[0;34m)\u001b[0m\u001b[0;34m\u001b[0m\u001b[0;34m\u001b[0m\u001b[0m\n\u001b[0m\u001b[1;32m    191\u001b[0m         \u001b[0;32melif\u001b[0m \u001b[0mis_list_like\u001b[0m\u001b[0;34m(\u001b[0m\u001b[0mfunc\u001b[0m\u001b[0;34m)\u001b[0m\u001b[0;34m:\u001b[0m\u001b[0;34m\u001b[0m\u001b[0;34m\u001b[0m\u001b[0m\n\u001b[1;32m    192\u001b[0m             \u001b[0;31m# we require a list, but not a 'str'\u001b[0m\u001b[0;34m\u001b[0m\u001b[0;34m\u001b[0m\u001b[0m\n\u001b[1;32m    193\u001b[0m             \u001b[0;32mreturn\u001b[0m \u001b[0mself\u001b[0m\u001b[0;34m.\u001b[0m\u001b[0magg_list_like\u001b[0m\u001b[0;34m(\u001b[0m\u001b[0;34m)\u001b[0m\u001b[0;34m\u001b[0m\u001b[0;34m\u001b[0m\u001b[0m\n",
      "\u001b[0;32m~/synthetic-data-takehome/venv/lib/python3.12/site-packages/pandas/core/apply.py\u001b[0m in \u001b[0;36m?\u001b[0;34m(self)\u001b[0m\n\u001b[1;32m    419\u001b[0m         \u001b[0mReturns\u001b[0m\u001b[0;34m\u001b[0m\u001b[0;34m\u001b[0m\u001b[0m\n\u001b[1;32m    420\u001b[0m         \u001b[0;34m-\u001b[0m\u001b[0;34m-\u001b[0m\u001b[0;34m-\u001b[0m\u001b[0;34m-\u001b[0m\u001b[0;34m-\u001b[0m\u001b[0;34m-\u001b[0m\u001b[0;34m-\u001b[0m\u001b[0;34m\u001b[0m\u001b[0;34m\u001b[0m\u001b[0m\n\u001b[1;32m    421\u001b[0m         \u001b[0mResult\u001b[0m \u001b[0mof\u001b[0m \u001b[0maggregation\u001b[0m\u001b[0;34m.\u001b[0m\u001b[0;34m\u001b[0m\u001b[0;34m\u001b[0m\u001b[0m\n\u001b[1;32m    422\u001b[0m         \"\"\"\n\u001b[0;32m--> 423\u001b[0;31m         \u001b[0;32mreturn\u001b[0m \u001b[0mself\u001b[0m\u001b[0;34m.\u001b[0m\u001b[0magg_or_apply_dict_like\u001b[0m\u001b[0;34m(\u001b[0m\u001b[0mop_name\u001b[0m\u001b[0;34m=\u001b[0m\u001b[0;34m\"agg\"\u001b[0m\u001b[0;34m)\u001b[0m\u001b[0;34m\u001b[0m\u001b[0;34m\u001b[0m\u001b[0m\n\u001b[0m",
      "\u001b[0;32m~/synthetic-data-takehome/venv/lib/python3.12/site-packages/pandas/core/apply.py\u001b[0m in \u001b[0;36m?\u001b[0;34m(self, op_name)\u001b[0m\n\u001b[1;32m    759\u001b[0m         \u001b[0;32mif\u001b[0m \u001b[0mgetattr\u001b[0m\u001b[0;34m(\u001b[0m\u001b[0mobj\u001b[0m\u001b[0;34m,\u001b[0m \u001b[0;34m\"axis\"\u001b[0m\u001b[0;34m,\u001b[0m \u001b[0;36m0\u001b[0m\u001b[0;34m)\u001b[0m \u001b[0;34m==\u001b[0m \u001b[0;36m1\u001b[0m\u001b[0;34m:\u001b[0m\u001b[0;34m\u001b[0m\u001b[0;34m\u001b[0m\u001b[0m\n\u001b[1;32m    760\u001b[0m             \u001b[0;32mraise\u001b[0m \u001b[0mNotImplementedError\u001b[0m\u001b[0;34m(\u001b[0m\u001b[0;34m\"axis other than 0 is not supported\"\u001b[0m\u001b[0;34m)\u001b[0m\u001b[0;34m\u001b[0m\u001b[0;34m\u001b[0m\u001b[0m\n\u001b[1;32m    761\u001b[0m \u001b[0;34m\u001b[0m\u001b[0m\n\u001b[1;32m    762\u001b[0m         \u001b[0mselection\u001b[0m \u001b[0;34m=\u001b[0m \u001b[0;32mNone\u001b[0m\u001b[0;34m\u001b[0m\u001b[0;34m\u001b[0m\u001b[0m\n\u001b[0;32m--> 763\u001b[0;31m         result_index, result_data = self.compute_dict_like(\n\u001b[0m\u001b[1;32m    764\u001b[0m             \u001b[0mop_name\u001b[0m\u001b[0;34m,\u001b[0m \u001b[0mobj\u001b[0m\u001b[0;34m,\u001b[0m \u001b[0mselection\u001b[0m\u001b[0;34m,\u001b[0m \u001b[0mkwargs\u001b[0m\u001b[0;34m\u001b[0m\u001b[0;34m\u001b[0m\u001b[0m\n\u001b[1;32m    765\u001b[0m         \u001b[0;34m)\u001b[0m\u001b[0;34m\u001b[0m\u001b[0;34m\u001b[0m\u001b[0m\n\u001b[1;32m    766\u001b[0m         \u001b[0mresult\u001b[0m \u001b[0;34m=\u001b[0m \u001b[0mself\u001b[0m\u001b[0;34m.\u001b[0m\u001b[0mwrap_results_dict_like\u001b[0m\u001b[0;34m(\u001b[0m\u001b[0mobj\u001b[0m\u001b[0;34m,\u001b[0m \u001b[0mresult_index\u001b[0m\u001b[0;34m,\u001b[0m \u001b[0mresult_data\u001b[0m\u001b[0;34m)\u001b[0m\u001b[0;34m\u001b[0m\u001b[0;34m\u001b[0m\u001b[0m\n",
      "\u001b[0;32m~/synthetic-data-takehome/venv/lib/python3.12/site-packages/pandas/core/apply.py\u001b[0m in \u001b[0;36m?\u001b[0;34m(self, op_name, selected_obj, selection, kwargs)\u001b[0m\n\u001b[1;32m    492\u001b[0m                 \u001b[0mkeys\u001b[0m \u001b[0;34m+=\u001b[0m \u001b[0;34m[\u001b[0m\u001b[0mkey\u001b[0m\u001b[0;34m]\u001b[0m \u001b[0;34m*\u001b[0m \u001b[0mlen\u001b[0m\u001b[0;34m(\u001b[0m\u001b[0mkey_data\u001b[0m\u001b[0;34m)\u001b[0m\u001b[0;34m\u001b[0m\u001b[0;34m\u001b[0m\u001b[0m\n\u001b[1;32m    493\u001b[0m                 \u001b[0mresults\u001b[0m \u001b[0;34m+=\u001b[0m \u001b[0mkey_data\u001b[0m\u001b[0;34m\u001b[0m\u001b[0;34m\u001b[0m\u001b[0m\n\u001b[1;32m    494\u001b[0m         \u001b[0;32melse\u001b[0m\u001b[0;34m:\u001b[0m\u001b[0;34m\u001b[0m\u001b[0;34m\u001b[0m\u001b[0m\n\u001b[1;32m    495\u001b[0m             \u001b[0;31m# key used for column selection and output\u001b[0m\u001b[0;34m\u001b[0m\u001b[0;34m\u001b[0m\u001b[0m\n\u001b[0;32m--> 496\u001b[0;31m             results = [\n\u001b[0m\u001b[1;32m    497\u001b[0m                 \u001b[0mgetattr\u001b[0m\u001b[0;34m(\u001b[0m\u001b[0mobj\u001b[0m\u001b[0;34m.\u001b[0m\u001b[0m_gotitem\u001b[0m\u001b[0;34m(\u001b[0m\u001b[0mkey\u001b[0m\u001b[0;34m,\u001b[0m \u001b[0mndim\u001b[0m\u001b[0;34m=\u001b[0m\u001b[0;36m1\u001b[0m\u001b[0;34m)\u001b[0m\u001b[0;34m,\u001b[0m \u001b[0mop_name\u001b[0m\u001b[0;34m)\u001b[0m\u001b[0;34m(\u001b[0m\u001b[0mhow\u001b[0m\u001b[0;34m,\u001b[0m \u001b[0;34m**\u001b[0m\u001b[0mkwargs\u001b[0m\u001b[0;34m)\u001b[0m\u001b[0;34m\u001b[0m\u001b[0;34m\u001b[0m\u001b[0m\n\u001b[1;32m    498\u001b[0m                 \u001b[0;32mfor\u001b[0m \u001b[0mkey\u001b[0m\u001b[0;34m,\u001b[0m \u001b[0mhow\u001b[0m \u001b[0;32min\u001b[0m \u001b[0mfunc\u001b[0m\u001b[0;34m.\u001b[0m\u001b[0mitems\u001b[0m\u001b[0;34m(\u001b[0m\u001b[0;34m)\u001b[0m\u001b[0;34m\u001b[0m\u001b[0;34m\u001b[0m\u001b[0m\n\u001b[1;32m    499\u001b[0m             \u001b[0;34m]\u001b[0m\u001b[0;34m\u001b[0m\u001b[0;34m\u001b[0m\u001b[0m\n",
      "\u001b[0;32m~/synthetic-data-takehome/venv/lib/python3.12/site-packages/pandas/core/series.py\u001b[0m in \u001b[0;36m?\u001b[0;34m(self, func, axis, *args, **kwargs)\u001b[0m\n\u001b[1;32m   4762\u001b[0m         \u001b[0;32mif\u001b[0m \u001b[0mfunc\u001b[0m \u001b[0;32mis\u001b[0m \u001b[0;32mNone\u001b[0m\u001b[0;34m:\u001b[0m\u001b[0;34m\u001b[0m\u001b[0;34m\u001b[0m\u001b[0m\n\u001b[1;32m   4763\u001b[0m             \u001b[0mfunc\u001b[0m \u001b[0;34m=\u001b[0m \u001b[0mdict\u001b[0m\u001b[0;34m(\u001b[0m\u001b[0mkwargs\u001b[0m\u001b[0;34m.\u001b[0m\u001b[0mitems\u001b[0m\u001b[0;34m(\u001b[0m\u001b[0;34m)\u001b[0m\u001b[0;34m)\u001b[0m\u001b[0;34m\u001b[0m\u001b[0;34m\u001b[0m\u001b[0m\n\u001b[1;32m   4764\u001b[0m \u001b[0;34m\u001b[0m\u001b[0m\n\u001b[1;32m   4765\u001b[0m         \u001b[0mop\u001b[0m \u001b[0;34m=\u001b[0m \u001b[0mSeriesApply\u001b[0m\u001b[0;34m(\u001b[0m\u001b[0mself\u001b[0m\u001b[0;34m,\u001b[0m \u001b[0mfunc\u001b[0m\u001b[0;34m,\u001b[0m \u001b[0margs\u001b[0m\u001b[0;34m=\u001b[0m\u001b[0margs\u001b[0m\u001b[0;34m,\u001b[0m \u001b[0mkwargs\u001b[0m\u001b[0;34m=\u001b[0m\u001b[0mkwargs\u001b[0m\u001b[0;34m)\u001b[0m\u001b[0;34m\u001b[0m\u001b[0;34m\u001b[0m\u001b[0m\n\u001b[0;32m-> 4766\u001b[0;31m         \u001b[0mresult\u001b[0m \u001b[0;34m=\u001b[0m \u001b[0mop\u001b[0m\u001b[0;34m.\u001b[0m\u001b[0magg\u001b[0m\u001b[0;34m(\u001b[0m\u001b[0;34m)\u001b[0m\u001b[0;34m\u001b[0m\u001b[0;34m\u001b[0m\u001b[0m\n\u001b[0m\u001b[1;32m   4767\u001b[0m         \u001b[0;32mreturn\u001b[0m \u001b[0mresult\u001b[0m\u001b[0;34m\u001b[0m\u001b[0;34m\u001b[0m\u001b[0m\n",
      "\u001b[0;32m~/synthetic-data-takehome/venv/lib/python3.12/site-packages/pandas/core/apply.py\u001b[0m in \u001b[0;36m?\u001b[0;34m(self)\u001b[0m\n\u001b[1;32m   1439\u001b[0m             \u001b[0;31m# `result = f(self.obj, *self.args, **self.kwargs)`.\u001b[0m\u001b[0;34m\u001b[0m\u001b[0;34m\u001b[0m\u001b[0m\n\u001b[1;32m   1440\u001b[0m             \u001b[0;32mtry\u001b[0m\u001b[0;34m:\u001b[0m\u001b[0;34m\u001b[0m\u001b[0;34m\u001b[0m\u001b[0m\n\u001b[1;32m   1441\u001b[0m                 \u001b[0mresult\u001b[0m \u001b[0;34m=\u001b[0m \u001b[0mobj\u001b[0m\u001b[0;34m.\u001b[0m\u001b[0mapply\u001b[0m\u001b[0;34m(\u001b[0m\u001b[0mfunc\u001b[0m\u001b[0;34m,\u001b[0m \u001b[0margs\u001b[0m\u001b[0;34m=\u001b[0m\u001b[0mself\u001b[0m\u001b[0;34m.\u001b[0m\u001b[0margs\u001b[0m\u001b[0;34m,\u001b[0m \u001b[0;34m**\u001b[0m\u001b[0mself\u001b[0m\u001b[0;34m.\u001b[0m\u001b[0mkwargs\u001b[0m\u001b[0;34m)\u001b[0m\u001b[0;34m\u001b[0m\u001b[0;34m\u001b[0m\u001b[0m\n\u001b[1;32m   1442\u001b[0m             \u001b[0;32mexcept\u001b[0m \u001b[0;34m(\u001b[0m\u001b[0mValueError\u001b[0m\u001b[0;34m,\u001b[0m \u001b[0mAttributeError\u001b[0m\u001b[0;34m,\u001b[0m \u001b[0mTypeError\u001b[0m\u001b[0;34m)\u001b[0m\u001b[0;34m:\u001b[0m\u001b[0;34m\u001b[0m\u001b[0;34m\u001b[0m\u001b[0m\n\u001b[0;32m-> 1443\u001b[0;31m                 \u001b[0mresult\u001b[0m \u001b[0;34m=\u001b[0m \u001b[0mfunc\u001b[0m\u001b[0;34m(\u001b[0m\u001b[0mobj\u001b[0m\u001b[0;34m,\u001b[0m \u001b[0;34m*\u001b[0m\u001b[0mself\u001b[0m\u001b[0;34m.\u001b[0m\u001b[0margs\u001b[0m\u001b[0;34m,\u001b[0m \u001b[0;34m**\u001b[0m\u001b[0mself\u001b[0m\u001b[0;34m.\u001b[0m\u001b[0mkwargs\u001b[0m\u001b[0;34m)\u001b[0m\u001b[0;34m\u001b[0m\u001b[0;34m\u001b[0m\u001b[0m\n\u001b[0m\u001b[1;32m   1444\u001b[0m             \u001b[0;32melse\u001b[0m\u001b[0;34m:\u001b[0m\u001b[0;34m\u001b[0m\u001b[0;34m\u001b[0m\u001b[0m\n\u001b[1;32m   1445\u001b[0m                 msg = (\n\u001b[1;32m   1446\u001b[0m                     \u001b[0;34mf\"\u001b[0m\u001b[0;34musing \u001b[0m\u001b[0;34m{\u001b[0m\u001b[0mfunc\u001b[0m\u001b[0;34m}\u001b[0m\u001b[0;34m in \u001b[0m\u001b[0;34m{\u001b[0m\u001b[0mtype\u001b[0m\u001b[0;34m(\u001b[0m\u001b[0mobj\u001b[0m\u001b[0;34m)\u001b[0m\u001b[0;34m.\u001b[0m\u001b[0m__name__\u001b[0m\u001b[0;34m}\u001b[0m\u001b[0;34m.agg cannot aggregate and \u001b[0m\u001b[0;34m\"\u001b[0m\u001b[0;34m\u001b[0m\u001b[0;34m\u001b[0m\u001b[0m\n",
      "\u001b[0;32m/var/folders/nx/l7sd1gss2ksd87brx4b4blxh0000gn/T/ipykernel_27806/1602719239.py\u001b[0m in \u001b[0;36m?\u001b[0;34m(data)\u001b[0m\n\u001b[1;32m      1\u001b[0m \u001b[0;32mdef\u001b[0m \u001b[0mencrypt\u001b[0m\u001b[0;34m(\u001b[0m\u001b[0mdata\u001b[0m\u001b[0;34m:\u001b[0m \u001b[0mstr\u001b[0m\u001b[0;34m)\u001b[0m \u001b[0;34m->\u001b[0m \u001b[0mstr\u001b[0m\u001b[0;34m:\u001b[0m\u001b[0;34m\u001b[0m\u001b[0;34m\u001b[0m\u001b[0m\n\u001b[0;32m----> 2\u001b[0;31m     \u001b[0mssn_bytes\u001b[0m \u001b[0;34m=\u001b[0m \u001b[0mdata\u001b[0m\u001b[0;34m.\u001b[0m\u001b[0mencode\u001b[0m\u001b[0;34m(\u001b[0m\u001b[0;34m'utf-8'\u001b[0m\u001b[0;34m)\u001b[0m\u001b[0;34m\u001b[0m\u001b[0;34m\u001b[0m\u001b[0m\n\u001b[0m\u001b[1;32m      3\u001b[0m     \u001b[0mencrypted_ssn\u001b[0m \u001b[0;34m=\u001b[0m \u001b[0mcipher_suite\u001b[0m\u001b[0;34m.\u001b[0m\u001b[0mencrypt\u001b[0m\u001b[0;34m(\u001b[0m\u001b[0mssn_bytes\u001b[0m\u001b[0;34m)\u001b[0m\u001b[0;34m\u001b[0m\u001b[0;34m\u001b[0m\u001b[0m\n\u001b[1;32m      4\u001b[0m     \u001b[0;32mreturn\u001b[0m \u001b[0mencrypted_ssn\u001b[0m\u001b[0;34m.\u001b[0m\u001b[0mdecode\u001b[0m\u001b[0;34m(\u001b[0m\u001b[0;34m'utf-8'\u001b[0m\u001b[0;34m)\u001b[0m\u001b[0;34m\u001b[0m\u001b[0;34m\u001b[0m\u001b[0m\n",
      "\u001b[0;32m~/synthetic-data-takehome/venv/lib/python3.12/site-packages/pandas/core/generic.py\u001b[0m in \u001b[0;36m?\u001b[0;34m(self, name)\u001b[0m\n\u001b[1;32m   6295\u001b[0m             \u001b[0;32mand\u001b[0m \u001b[0mname\u001b[0m \u001b[0;32mnot\u001b[0m \u001b[0;32min\u001b[0m \u001b[0mself\u001b[0m\u001b[0;34m.\u001b[0m\u001b[0m_accessors\u001b[0m\u001b[0;34m\u001b[0m\u001b[0;34m\u001b[0m\u001b[0m\n\u001b[1;32m   6296\u001b[0m             \u001b[0;32mand\u001b[0m \u001b[0mself\u001b[0m\u001b[0;34m.\u001b[0m\u001b[0m_info_axis\u001b[0m\u001b[0;34m.\u001b[0m\u001b[0m_can_hold_identifiers_and_holds_name\u001b[0m\u001b[0;34m(\u001b[0m\u001b[0mname\u001b[0m\u001b[0;34m)\u001b[0m\u001b[0;34m\u001b[0m\u001b[0;34m\u001b[0m\u001b[0m\n\u001b[1;32m   6297\u001b[0m         \u001b[0;34m)\u001b[0m\u001b[0;34m:\u001b[0m\u001b[0;34m\u001b[0m\u001b[0;34m\u001b[0m\u001b[0m\n\u001b[1;32m   6298\u001b[0m             \u001b[0;32mreturn\u001b[0m \u001b[0mself\u001b[0m\u001b[0;34m[\u001b[0m\u001b[0mname\u001b[0m\u001b[0;34m]\u001b[0m\u001b[0;34m\u001b[0m\u001b[0;34m\u001b[0m\u001b[0m\n\u001b[0;32m-> 6299\u001b[0;31m         \u001b[0;32mreturn\u001b[0m \u001b[0mobject\u001b[0m\u001b[0;34m.\u001b[0m\u001b[0m__getattribute__\u001b[0m\u001b[0;34m(\u001b[0m\u001b[0mself\u001b[0m\u001b[0;34m,\u001b[0m \u001b[0mname\u001b[0m\u001b[0;34m)\u001b[0m\u001b[0;34m\u001b[0m\u001b[0;34m\u001b[0m\u001b[0m\n\u001b[0m",
      "\u001b[0;31mAttributeError\u001b[0m: 'Series' object has no attribute 'encode'"
     ]
    }
   ],
   "source": [
    "pydb_df.agg(agg_map)"
   ]
  },
  {
   "cell_type": "code",
   "execution_count": 70,
   "metadata": {},
   "outputs": [
    {
     "data": {
      "text/plain": [
       "Index(['first_name', 'last_name', 'name', 'dob', 'age', 'email', 'ssn',\n",
       "       'medical_record_number', 'student_id', 'address', 'city', 'state',\n",
       "       'zip'],\n",
       "      dtype='object')"
      ]
     },
     "execution_count": 70,
     "metadata": {},
     "output_type": "execute_result"
    }
   ],
   "source": [
    "pydb_df.columns"
   ]
  },
  {
   "cell_type": "code",
   "execution_count": 71,
   "metadata": {},
   "outputs": [],
   "source": [
    "final_df = pydb_df.copy(deep=True)"
   ]
  },
  {
   "cell_type": "code",
   "execution_count": 80,
   "metadata": {},
   "outputs": [],
   "source": [
    "for col in final_df.columns:\n",
    "    final_df[col] = final_df[col].apply(agg_map[col])"
   ]
  },
  {
   "cell_type": "code",
   "execution_count": 81,
   "metadata": {},
   "outputs": [
    {
     "data": {
      "text/html": [
       "<div>\n",
       "<style scoped>\n",
       "    .dataframe tbody tr th:only-of-type {\n",
       "        vertical-align: middle;\n",
       "    }\n",
       "\n",
       "    .dataframe tbody tr th {\n",
       "        vertical-align: top;\n",
       "    }\n",
       "\n",
       "    .dataframe thead th {\n",
       "        text-align: right;\n",
       "    }\n",
       "</style>\n",
       "<table border=\"1\" class=\"dataframe\">\n",
       "  <thead>\n",
       "    <tr style=\"text-align: right;\">\n",
       "      <th></th>\n",
       "      <th>first_name</th>\n",
       "      <th>last_name</th>\n",
       "      <th>name</th>\n",
       "      <th>dob</th>\n",
       "      <th>age</th>\n",
       "      <th>email</th>\n",
       "      <th>ssn</th>\n",
       "      <th>medical_record_number</th>\n",
       "      <th>student_id</th>\n",
       "      <th>address</th>\n",
       "      <th>city</th>\n",
       "      <th>state</th>\n",
       "      <th>zip</th>\n",
       "    </tr>\n",
       "  </thead>\n",
       "  <tbody>\n",
       "    <tr>\n",
       "      <th>0</th>\n",
       "      <td>Debbie</td>\n",
       "      <td>R</td>\n",
       "      <td>Debbie Ryan</td>\n",
       "      <td>b74f48bb1fadf26b520fc64af29faa712551dfe02255b9...</td>\n",
       "      <td>None</td>\n",
       "      <td>cfedea060190d5bb6d816774d5f75e9885d8d0ba2df215...</td>\n",
       "      <td>gAAAAABmls3X5ICViDaOQ12F1yUm2PjVtDNzikB_qP392L...</td>\n",
       "      <td>gAAAAABmls3X5d6gMa43arSP-4IWyn7_qfZmW6Ssx_4xpl...</td>\n",
       "      <td>4112073</td>\n",
       "      <td>gAAAAABmls3X-qE-r7j7yiVcdRPDSdFPwvoY1WitW2YLjo...</td>\n",
       "      <td>Louisville</td>\n",
       "      <td>KY</td>\n",
       "      <td>40222</td>\n",
       "    </tr>\n",
       "    <tr>\n",
       "      <th>1</th>\n",
       "      <td>Jodi</td>\n",
       "      <td>D</td>\n",
       "      <td>Jodi Dawson</td>\n",
       "      <td>24c9e018654dadf1fcbe73122e37f4f3e7540c8c24ed13...</td>\n",
       "      <td>None</td>\n",
       "      <td>91a0263ecac36a14cca2221400590a8b6c3617bd0356c8...</td>\n",
       "      <td>gAAAAABmls3XN_fa_QokIVsLCKEUYMWzdfZn4ih6dX9OXW...</td>\n",
       "      <td>gAAAAABmls3Xt3rdV9TGT_Eql91E9QVn4AqcoYNOv6UWrt...</td>\n",
       "      <td>3050983</td>\n",
       "      <td>gAAAAABmls3XmUBsIoyJa8p1h5C3oiWbRVyPmcn5Y_uENd...</td>\n",
       "      <td>Montgomery</td>\n",
       "      <td>AL</td>\n",
       "      <td>36107</td>\n",
       "    </tr>\n",
       "    <tr>\n",
       "      <th>2</th>\n",
       "      <td>Jessica</td>\n",
       "      <td>S</td>\n",
       "      <td>Jessica Smith</td>\n",
       "      <td>f15f9469985280d23ea33f9e05b616d425906941efda5b...</td>\n",
       "      <td>None</td>\n",
       "      <td>b1cbeeafbceff3268b5f16db4349b2443e96384f201499...</td>\n",
       "      <td>gAAAAABmls3XlAY4PC1e7s5cfNZuq2G8wtJk_0SgUC7qvl...</td>\n",
       "      <td>gAAAAABmls3XT6T72k2vQDTsXnBxULP8OD8_W2ll4aBaWb...</td>\n",
       "      <td>1134240</td>\n",
       "      <td>gAAAAABmls3XZvPODJBhJ3hCSwWYfgAKZKO_0qgju1_28y...</td>\n",
       "      <td>Panama City</td>\n",
       "      <td>FL</td>\n",
       "      <td>32404</td>\n",
       "    </tr>\n",
       "    <tr>\n",
       "      <th>3</th>\n",
       "      <td>Keith</td>\n",
       "      <td>S</td>\n",
       "      <td>Keith Stewart</td>\n",
       "      <td>75fc372006c3a6b5e40e9ec31fcc1d600d8e62fa56da98...</td>\n",
       "      <td>None</td>\n",
       "      <td>d1e0bfe98698d7be74cf4df420e69f8fda0fd7903230bf...</td>\n",
       "      <td>gAAAAABmls3Xpuy2JC16DfXn6mYKFkUNkChG5mjqrD6e78...</td>\n",
       "      <td>gAAAAABmls3Xsdnd9UqVOtbJz3SjToltE0FlY318PnznDE...</td>\n",
       "      <td>2925863</td>\n",
       "      <td>gAAAAABmls3XaEdShHwJJUYkCu1jHYXdXAcEeUEWP3Wf7y...</td>\n",
       "      <td>Edmond</td>\n",
       "      <td>OK</td>\n",
       "      <td>73012</td>\n",
       "    </tr>\n",
       "    <tr>\n",
       "      <th>4</th>\n",
       "      <td>Richard</td>\n",
       "      <td>W</td>\n",
       "      <td>Richard Wells</td>\n",
       "      <td>2634e401eeceb34cf2d10f0d9bf81d6fb07aa698217a2f...</td>\n",
       "      <td>None</td>\n",
       "      <td>730bccbf76d7bf6b760d637252616b437c141e7f492aca...</td>\n",
       "      <td>gAAAAABmls3XMQan-lMgVkWEG2XgmWS2IIXZAF3p4JINJJ...</td>\n",
       "      <td>gAAAAABmls3X8HwnRceqDv_N3XDEivLxDK2YkGT2ucbRFS...</td>\n",
       "      <td>1251733</td>\n",
       "      <td>gAAAAABmls3X4e1ehQ5m8thE3n101WCEhV-WyM6XIRRt50...</td>\n",
       "      <td>Montpelier</td>\n",
       "      <td>VT</td>\n",
       "      <td>05602</td>\n",
       "    </tr>\n",
       "    <tr>\n",
       "      <th>...</th>\n",
       "      <td>...</td>\n",
       "      <td>...</td>\n",
       "      <td>...</td>\n",
       "      <td>...</td>\n",
       "      <td>...</td>\n",
       "      <td>...</td>\n",
       "      <td>...</td>\n",
       "      <td>...</td>\n",
       "      <td>...</td>\n",
       "      <td>...</td>\n",
       "      <td>...</td>\n",
       "      <td>...</td>\n",
       "      <td>...</td>\n",
       "    </tr>\n",
       "    <tr>\n",
       "      <th>995</th>\n",
       "      <td>Jason</td>\n",
       "      <td>F</td>\n",
       "      <td>Jason Franklin</td>\n",
       "      <td>60c79fa4a52677cca183a2096a3d37e6494cd9f1bec492...</td>\n",
       "      <td>None</td>\n",
       "      <td>37cda40331fbdbb1125e06461a5d4bbc0c02b60e97ed1b...</td>\n",
       "      <td>gAAAAABmls3XJy2-8B0ZR9jIG9jRzcOcfoAuR6yQk8bbNz...</td>\n",
       "      <td>gAAAAABmls3XTybxWhiTMaXQ1_eojhcWF1XdChqTnOqJo9...</td>\n",
       "      <td>4533122</td>\n",
       "      <td>gAAAAABmls3XQJ8x2E0DKgM7f-q4pAqhxKIQeY-kOvhkyQ...</td>\n",
       "      <td>Laurel</td>\n",
       "      <td>MD</td>\n",
       "      <td>20724</td>\n",
       "    </tr>\n",
       "    <tr>\n",
       "      <th>996</th>\n",
       "      <td>Jennifer</td>\n",
       "      <td>P</td>\n",
       "      <td>Jennifer Perez</td>\n",
       "      <td>5c12930c2fcaa70f93d520230e65eb4077ff90e4ea6a24...</td>\n",
       "      <td>None</td>\n",
       "      <td>1ecbe08ce0a03a08416e6c1819170261d8cf41d6c78d51...</td>\n",
       "      <td>gAAAAABmls3XlAEVm8i3AtREa4xGKiOkYmlbUWaQaF_5j_...</td>\n",
       "      <td>gAAAAABmls3XqqoUehnIdhx91N7PZvqRYuAgdgtM0GDi8V...</td>\n",
       "      <td>6439408</td>\n",
       "      <td>gAAAAABmls3XnjXbT0k-DeWQwMTyo5gNI8YOnrclhFqkmw...</td>\n",
       "      <td>Prospect</td>\n",
       "      <td>KY</td>\n",
       "      <td>40059</td>\n",
       "    </tr>\n",
       "    <tr>\n",
       "      <th>997</th>\n",
       "      <td>Jimmy</td>\n",
       "      <td>P</td>\n",
       "      <td>Jimmy Pacheco</td>\n",
       "      <td>eaf6ffa574f6a6ce9e29e5928fddf51661962453942cec...</td>\n",
       "      <td>None</td>\n",
       "      <td>5d6a1f54154da32dfab32f9ebf0bec1d83b178992e2d0d...</td>\n",
       "      <td>gAAAAABmls3XmpeMqYgiilg69yK-iinrOkftbgSD30awhB...</td>\n",
       "      <td>gAAAAABmls3XhtSTZ11TDtZ2hJr3Vz6OkGzW-ztbOZznnH...</td>\n",
       "      <td>9590789</td>\n",
       "      <td>gAAAAABmls3XQtKfjZ6q2YBIGVJKZf7zTiIdiVr8EdodZ7...</td>\n",
       "      <td>Nashville</td>\n",
       "      <td>TN</td>\n",
       "      <td>37217</td>\n",
       "    </tr>\n",
       "    <tr>\n",
       "      <th>998</th>\n",
       "      <td>Bradley</td>\n",
       "      <td>R</td>\n",
       "      <td>Bradley Reilly</td>\n",
       "      <td>e9b3d0507d610e11c793f737b7a0733e3b4602714e1054...</td>\n",
       "      <td>None</td>\n",
       "      <td>4bb1f321a7b3b7a8e54ee0ee937a32eb19b17d007a17eb...</td>\n",
       "      <td>gAAAAABmls3XsORvETWEjlppwdIF2KFs4sfXrJd3spy3rf...</td>\n",
       "      <td>gAAAAABmls3X0pY9Taju-jrOdRWP38_GqoNZXWUZiRjX0Z...</td>\n",
       "      <td>8546173</td>\n",
       "      <td>gAAAAABmls3XEwjAdnLsuYoi3xPmvDQbaG3SK0mdir9obm...</td>\n",
       "      <td>Groton</td>\n",
       "      <td>CT</td>\n",
       "      <td>06340</td>\n",
       "    </tr>\n",
       "    <tr>\n",
       "      <th>999</th>\n",
       "      <td>Steven</td>\n",
       "      <td>S</td>\n",
       "      <td>Steven Soto</td>\n",
       "      <td>d340552303ed3c7cd8c9b9c0d45c255f9eed9ead8cc276...</td>\n",
       "      <td>None</td>\n",
       "      <td>5db396e6764e491dfa9a54ae024d8e4e7bf2e79309f6d1...</td>\n",
       "      <td>gAAAAABmls3Xh1q_QjGEK_RT35Ljm3RFLlgVR1B4kctvgn...</td>\n",
       "      <td>gAAAAABmls3XcLjbTab0v67tE74VfSBqn68jZXEy4swv5f...</td>\n",
       "      <td>1062012</td>\n",
       "      <td>gAAAAABmls3XVDdxLVThrF5n8-CixDMaoJvg5nIFyzUYWC...</td>\n",
       "      <td>Millersville</td>\n",
       "      <td>MD</td>\n",
       "      <td>21108</td>\n",
       "    </tr>\n",
       "  </tbody>\n",
       "</table>\n",
       "<p>1000 rows × 13 columns</p>\n",
       "</div>"
      ],
      "text/plain": [
       "    first_name last_name            name  \\\n",
       "0       Debbie         R     Debbie Ryan   \n",
       "1         Jodi         D     Jodi Dawson   \n",
       "2      Jessica         S   Jessica Smith   \n",
       "3        Keith         S   Keith Stewart   \n",
       "4      Richard         W   Richard Wells   \n",
       "..         ...       ...             ...   \n",
       "995      Jason         F  Jason Franklin   \n",
       "996   Jennifer         P  Jennifer Perez   \n",
       "997      Jimmy         P   Jimmy Pacheco   \n",
       "998    Bradley         R  Bradley Reilly   \n",
       "999     Steven         S     Steven Soto   \n",
       "\n",
       "                                                   dob   age  \\\n",
       "0    b74f48bb1fadf26b520fc64af29faa712551dfe02255b9...  None   \n",
       "1    24c9e018654dadf1fcbe73122e37f4f3e7540c8c24ed13...  None   \n",
       "2    f15f9469985280d23ea33f9e05b616d425906941efda5b...  None   \n",
       "3    75fc372006c3a6b5e40e9ec31fcc1d600d8e62fa56da98...  None   \n",
       "4    2634e401eeceb34cf2d10f0d9bf81d6fb07aa698217a2f...  None   \n",
       "..                                                 ...   ...   \n",
       "995  60c79fa4a52677cca183a2096a3d37e6494cd9f1bec492...  None   \n",
       "996  5c12930c2fcaa70f93d520230e65eb4077ff90e4ea6a24...  None   \n",
       "997  eaf6ffa574f6a6ce9e29e5928fddf51661962453942cec...  None   \n",
       "998  e9b3d0507d610e11c793f737b7a0733e3b4602714e1054...  None   \n",
       "999  d340552303ed3c7cd8c9b9c0d45c255f9eed9ead8cc276...  None   \n",
       "\n",
       "                                                 email  \\\n",
       "0    cfedea060190d5bb6d816774d5f75e9885d8d0ba2df215...   \n",
       "1    91a0263ecac36a14cca2221400590a8b6c3617bd0356c8...   \n",
       "2    b1cbeeafbceff3268b5f16db4349b2443e96384f201499...   \n",
       "3    d1e0bfe98698d7be74cf4df420e69f8fda0fd7903230bf...   \n",
       "4    730bccbf76d7bf6b760d637252616b437c141e7f492aca...   \n",
       "..                                                 ...   \n",
       "995  37cda40331fbdbb1125e06461a5d4bbc0c02b60e97ed1b...   \n",
       "996  1ecbe08ce0a03a08416e6c1819170261d8cf41d6c78d51...   \n",
       "997  5d6a1f54154da32dfab32f9ebf0bec1d83b178992e2d0d...   \n",
       "998  4bb1f321a7b3b7a8e54ee0ee937a32eb19b17d007a17eb...   \n",
       "999  5db396e6764e491dfa9a54ae024d8e4e7bf2e79309f6d1...   \n",
       "\n",
       "                                                   ssn  \\\n",
       "0    gAAAAABmls3X5ICViDaOQ12F1yUm2PjVtDNzikB_qP392L...   \n",
       "1    gAAAAABmls3XN_fa_QokIVsLCKEUYMWzdfZn4ih6dX9OXW...   \n",
       "2    gAAAAABmls3XlAY4PC1e7s5cfNZuq2G8wtJk_0SgUC7qvl...   \n",
       "3    gAAAAABmls3Xpuy2JC16DfXn6mYKFkUNkChG5mjqrD6e78...   \n",
       "4    gAAAAABmls3XMQan-lMgVkWEG2XgmWS2IIXZAF3p4JINJJ...   \n",
       "..                                                 ...   \n",
       "995  gAAAAABmls3XJy2-8B0ZR9jIG9jRzcOcfoAuR6yQk8bbNz...   \n",
       "996  gAAAAABmls3XlAEVm8i3AtREa4xGKiOkYmlbUWaQaF_5j_...   \n",
       "997  gAAAAABmls3XmpeMqYgiilg69yK-iinrOkftbgSD30awhB...   \n",
       "998  gAAAAABmls3XsORvETWEjlppwdIF2KFs4sfXrJd3spy3rf...   \n",
       "999  gAAAAABmls3Xh1q_QjGEK_RT35Ljm3RFLlgVR1B4kctvgn...   \n",
       "\n",
       "                                 medical_record_number  student_id  \\\n",
       "0    gAAAAABmls3X5d6gMa43arSP-4IWyn7_qfZmW6Ssx_4xpl...     4112073   \n",
       "1    gAAAAABmls3Xt3rdV9TGT_Eql91E9QVn4AqcoYNOv6UWrt...     3050983   \n",
       "2    gAAAAABmls3XT6T72k2vQDTsXnBxULP8OD8_W2ll4aBaWb...     1134240   \n",
       "3    gAAAAABmls3Xsdnd9UqVOtbJz3SjToltE0FlY318PnznDE...     2925863   \n",
       "4    gAAAAABmls3X8HwnRceqDv_N3XDEivLxDK2YkGT2ucbRFS...     1251733   \n",
       "..                                                 ...         ...   \n",
       "995  gAAAAABmls3XTybxWhiTMaXQ1_eojhcWF1XdChqTnOqJo9...     4533122   \n",
       "996  gAAAAABmls3XqqoUehnIdhx91N7PZvqRYuAgdgtM0GDi8V...     6439408   \n",
       "997  gAAAAABmls3XhtSTZ11TDtZ2hJr3Vz6OkGzW-ztbOZznnH...     9590789   \n",
       "998  gAAAAABmls3X0pY9Taju-jrOdRWP38_GqoNZXWUZiRjX0Z...     8546173   \n",
       "999  gAAAAABmls3XcLjbTab0v67tE74VfSBqn68jZXEy4swv5f...     1062012   \n",
       "\n",
       "                                               address          city state  \\\n",
       "0    gAAAAABmls3X-qE-r7j7yiVcdRPDSdFPwvoY1WitW2YLjo...    Louisville    KY   \n",
       "1    gAAAAABmls3XmUBsIoyJa8p1h5C3oiWbRVyPmcn5Y_uENd...    Montgomery    AL   \n",
       "2    gAAAAABmls3XZvPODJBhJ3hCSwWYfgAKZKO_0qgju1_28y...   Panama City    FL   \n",
       "3    gAAAAABmls3XaEdShHwJJUYkCu1jHYXdXAcEeUEWP3Wf7y...        Edmond    OK   \n",
       "4    gAAAAABmls3X4e1ehQ5m8thE3n101WCEhV-WyM6XIRRt50...    Montpelier    VT   \n",
       "..                                                 ...           ...   ...   \n",
       "995  gAAAAABmls3XQJ8x2E0DKgM7f-q4pAqhxKIQeY-kOvhkyQ...        Laurel    MD   \n",
       "996  gAAAAABmls3XnjXbT0k-DeWQwMTyo5gNI8YOnrclhFqkmw...      Prospect    KY   \n",
       "997  gAAAAABmls3XQtKfjZ6q2YBIGVJKZf7zTiIdiVr8EdodZ7...     Nashville    TN   \n",
       "998  gAAAAABmls3XEwjAdnLsuYoi3xPmvDQbaG3SK0mdir9obm...        Groton    CT   \n",
       "999  gAAAAABmls3XVDdxLVThrF5n8-CixDMaoJvg5nIFyzUYWC...  Millersville    MD   \n",
       "\n",
       "       zip  \n",
       "0    40222  \n",
       "1    36107  \n",
       "2    32404  \n",
       "3    73012  \n",
       "4    05602  \n",
       "..     ...  \n",
       "995  20724  \n",
       "996  40059  \n",
       "997  37217  \n",
       "998  06340  \n",
       "999  21108  \n",
       "\n",
       "[1000 rows x 13 columns]"
      ]
     },
     "execution_count": 81,
     "metadata": {},
     "output_type": "execute_result"
    }
   ],
   "source": [
    "final_df"
   ]
  },
  {
   "cell_type": "code",
   "execution_count": null,
   "metadata": {},
   "outputs": [],
   "source": []
  }
 ],
 "metadata": {
  "kernelspec": {
   "display_name": "venv",
   "language": "python",
   "name": "python3"
  },
  "language_info": {
   "codemirror_mode": {
    "name": "ipython",
    "version": 3
   },
   "file_extension": ".py",
   "mimetype": "text/x-python",
   "name": "python",
   "nbconvert_exporter": "python",
   "pygments_lexer": "ipython3",
   "version": "3.12.3"
  }
 },
 "nbformat": 4,
 "nbformat_minor": 2
}
